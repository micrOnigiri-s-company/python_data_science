{
 "cells": [
  {
   "cell_type": "code",
   "execution_count": 11,
   "id": "11122878",
   "metadata": {},
   "outputs": [],
   "source": [
    "import numpy as np\n",
    "import math\n",
    "import itertools"
   ]
  },
  {
   "cell_type": "markdown",
   "id": "657729ad",
   "metadata": {},
   "source": [
    "# Task 1 "
   ]
  },
  {
   "cell_type": "markdown",
   "id": "a77c15d2",
   "metadata": {},
   "source": [
    "Вкладчик положил 50000 условных единиц на три разных счета в три разных банка. По первому счету выплаты составят 5% годовых, по второму – 7% годовых и по третьему 6% годовых. Известно, что через год вкладчик получил по процентам сумму в 2250 у.е. с первого и второго банка и сумму в 1400 у.е. с первого и третьего банка. Сколько условных единиц он положил на каждый счет изначально?"
   ]
  },
  {
   "cell_type": "code",
   "execution_count": 2,
   "id": "b6e60a94",
   "metadata": {},
   "outputs": [
    {
     "name": "stdout",
     "output_type": "stream",
     "text": [
      "на 1 счету [[10000.]], на 2 счету [[25000.]], на 3 счету [[15000.]].\n"
     ]
    }
   ],
   "source": [
    "a = np.matrix(\"1, 1, 1; 5, 7, 0; 5, 0, 6\")\n",
    "b = np.matrix(\"50000; 225000; 140000\")\n",
    "a_inv = np.linalg.inv(a)\n",
    "x = a_inv.dot(b)\n",
    "print(f\"на 1 счету {x[0]}, на 2 счету {x[1]}, на 3 счету {x[2]}.\")"
   ]
  },
  {
   "cell_type": "markdown",
   "id": "12c40b61",
   "metadata": {},
   "source": [
    "# Task 2"
   ]
  },
  {
   "cell_type": "markdown",
   "id": "8eef0522",
   "metadata": {},
   "source": [
    "На складе хранятся мобильные телефоны iPhone 6, iPhone 11, iPhone 12 моделей. Всего 1328 экземпляра. Моделей iPhone 6 на 120 меньше, чем моделей iPhone 11, и на 100 больше, чем моделей iPhone 12. Сколько моделей каждого вида на складе? "
   ]
  },
  {
   "cell_type": "code",
   "execution_count": 3,
   "id": "b0d42469",
   "metadata": {},
   "outputs": [
    {
     "name": "stdout",
     "output_type": "stream",
     "text": [
      "имеется iPhone 6 [[436.]] шт, iPhone 11 [[556.]]шт, iPhone 12 [[336.]]шт.\n"
     ]
    }
   ],
   "source": [
    "a = np.matrix(\"1, 1, 1; -1, 1, 0; 1, 0, -1\")\n",
    "b = np.matrix(\"1328; 120; 100\")\n",
    "a_inv = np.linalg.inv(a)\n",
    "x = a_inv.dot(b)\n",
    "print(f\"имеется iPhone 6 {x[0]} шт, iPhone 11 {x[1]}шт, iPhone 12 {x[2]}шт.\")"
   ]
  },
  {
   "cell_type": "markdown",
   "id": "0b70f016",
   "metadata": {},
   "source": [
    "# Task 3"
   ]
  },
  {
   "attachments": {
    "image.png": {
     "image/png": "[encoded data removed]"
    }
   },
   "cell_type": "markdown",
   "id": "1965de81",
   "metadata": {},
   "source": [
    "Составьте каноническое уравнение эллипсоида, проходящего через три точки A,B,C ![image.png](attachment:image.png)"
   ]
  },
  {
   "cell_type": "code",
   "execution_count": 18,
   "id": "34727c56",
   "metadata": {},
   "outputs": [
    {
     "name": "stdout",
     "output_type": "stream",
     "text": [
      "a= 3.4641016151379285 or -3.4641016151379285 , b= 0.7071067811865122 or -0.7071067811865122, c= 1.9999999999999667 or -1.9999999999999667.\n",
      "\n",
      "[(3.4641016151379285, 0.7071067811865122, 1.9999999999999667), (3.4641016151379285, 0.7071067811865122, -1.9999999999999667), (3.4641016151379285, -0.7071067811865122, 1.9999999999999667), (3.4641016151379285, -0.7071067811865122, -1.9999999999999667), (-3.4641016151379285, 0.7071067811865122, 1.9999999999999667), (-3.4641016151379285, 0.7071067811865122, -1.9999999999999667), (-3.4641016151379285, -0.7071067811865122, 1.9999999999999667), (-3.4641016151379285, -0.7071067811865122, -1.9999999999999667)]\n"
     ]
    }
   ],
   "source": [
    "e = np.matrix(\"3, 0, 3; 6, 0.25, 0; 1, 0.3333333333333, 1\")\n",
    "f = np.matrix(\"1; 1; 1\")\n",
    "e_inv = np.linalg.inv(e)\n",
    "x__div = e_inv.dot(f)\n",
    "x1 = (1/(math.sqrt(x__div[0])), -1/(math.sqrt(x__div[0])))\n",
    "x2 = (1/(math.sqrt(x__div[1])), -1/(math.sqrt(x__div[1])))\n",
    "x3 = (1/(math.sqrt(x__div[2])), -1/(math.sqrt(x__div[2])))\n",
    "print(f\"a= {x1[0]} or {x1[1]} , b= {x2[0]} or {x2[1]}, c= {x3[0]} or {x3[1]}.\")\n",
    "\n",
    "#всі можливі набори трійок a, b, c, що задовольнять рівняння\n",
    "res = list(itertools.product(x1, x2, x3)) \n",
    "print()\n",
    "print(res)"
   ]
  },
  {
   "cell_type": "markdown",
   "id": "69b5b287",
   "metadata": {},
   "source": [
    "# Task 4"
   ]
  },
  {
   "cell_type": "markdown",
   "id": "43345de8",
   "metadata": {},
   "source": [
    "Составьте уравнение параболы проходящей через заданные три точки (1,12), (3,54), (-1,2). Необходимо найти коэффициенты уравнения a,b,c"
   ]
  },
  {
   "cell_type": "code",
   "execution_count": 20,
   "id": "cb2c6c7d",
   "metadata": {},
   "outputs": [
    {
     "name": "stdout",
     "output_type": "stream",
     "text": [
      "a=[[4.]], b=[[5.]], c=[[3.]].\n",
      "y=[[4.]]x^2+[[3.]]x+[[3.]]\n"
     ]
    }
   ],
   "source": [
    "a = np.matrix(\"1, 1, 1; 9, 3, 1; 1, -1, 1\")\n",
    "b = np.matrix(\"12; 54; 2\")\n",
    "a_inv = np.linalg.inv(a)\n",
    "x_r = a_inv.dot(b)\n",
    "print(f\"a={x_r[0]}, b={x_r[1]}, c={x_r[2]}.\")\n",
    "print(f\"y={x_r[0]}x^2+{x_r[2]}x+{x_r[2]}\")"
   ]
  },
  {
   "cell_type": "markdown",
   "id": "56576326",
   "metadata": {},
   "source": [
    "# Task 5"
   ]
  },
  {
   "cell_type": "markdown",
   "id": "0e3c8732",
   "metadata": {},
   "source": [
    "Составьте функцию get_polynom, которая по набору точек вида (x_1,y_1),(x_2,y_2), ..., (x_{n+1}, y_{n+1}) будет находить коэффициенты многочлена c_i. Таким образом функция принимает список кортежей с координатами и возвращает набор коэффициентов c_0, c_1,..., c_n"
   ]
  },
  {
   "cell_type": "code",
   "execution_count": 6,
   "id": "eb21b9da",
   "metadata": {},
   "outputs": [],
   "source": [
    "def get_polynom(coords):\n",
    "    l_c = list(zip(*coords))\n",
    "    n = len(l_c[1]) - 1\n",
    "    B = np.matrix(l_c[1]).reshape(n+1,1)\n",
    "    l = []\n",
    "    for i in l_c[0]:\n",
    "        for k in range(0, n+1):\n",
    "            l.append(i**k)\n",
    "    A = np.matrix(l).reshape((n+1,n+1))\n",
    "    return np.linalg.solve(A, B)"
   ]
  },
  {
   "cell_type": "code",
   "execution_count": 7,
   "id": "cf7eb93c",
   "metadata": {},
   "outputs": [
    {
     "data": {
      "text/plain": [
       "matrix([[-26.25 ],\n",
       "        [  7.625],\n",
       "        [ 27.75 ],\n",
       "        [ -8.125]])"
      ]
     },
     "execution_count": 7,
     "metadata": {},
     "output_type": "execute_result"
    }
   ],
   "source": [
    "coords = [(1,1), (3,27), (-1,2), (2, 35)]\n",
    "get_polynom(coords)"
   ]
  }
 ],
 "metadata": {
  "kernelspec": {
   "display_name": "Python 3 (ipykernel)",
   "language": "python",
   "name": "python3"
  },
  "language_info": {
   "codemirror_mode": {
    "name": "ipython",
    "version": 3
   },
   "file_extension": ".py",
   "mimetype": "text/x-python",
   "name": "python",
   "nbconvert_exporter": "python",
   "pygments_lexer": "ipython3",
   "version": "3.9.12"
  }
 },
 "nbformat": 4,
 "nbformat_minor": 5
}
